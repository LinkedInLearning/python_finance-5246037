{
 "cells": [
  {
   "cell_type": "markdown",
   "metadata": {},
   "source": []
  },
  {
   "cell_type": "markdown",
   "metadata": {},
   "source": [
    "# Chapitre 1 : Maîtriser la préparation des données financières\n",
    "\n",
    "## Objectif général\n",
    "\n",
    "### À la fin de ce chapitre, vous serez capable de :\n",
    "- Importer des données financières depuis différentes sources (Yahoo Finance, CSV)\n",
    "- Nettoyer les données : valeurs manquantes, doublons, anomalies\n",
    "- Gérer les formats de date et manipuler les fréquences (journalier, hebdomadaire, mensuel)\n",
    "- Filtrer et échantillonner des sous-ensembles de données cohérents\n",
    "- Vérifier la qualité globale d’un dataset financier\n",
    "- Appliquer ces compétences sur des cas concrets avec du code Python\n",
    "\n",
    "Dans ce premier chapitre du cours Python pour la finance, vous apprendrez à transformer des données brutes issues de marchés financiers (ex. données boursières) en un format propre, cohérent et prêt pour l’analyse. L’objectif est de bâtir une base de données fiable pour calculer des indicateurs, visualiser des tendances et développer des modèles prédictifs.\n",
    "\n",
    "---"
   ]
  },
  {
   "cell_type": "markdown",
   "metadata": {},
   "source": [
    "## 1. Importer les données\n",
    "**Objectif** : Apprendre à importer efficacement des données boursières (Yahoo Finance, CSV, etc.) et à les stocker dans des DataFrames pour préparer l’analyse financière à venir.\n"
   ]
  },
  {
   "cell_type": "code",
   "execution_count": 1,
   "metadata": {},
   "outputs": [
    {
     "name": "stdout",
     "output_type": "stream",
     "text": [
      "Requirement already satisfied: yfinance in /opt/anaconda3/lib/python3.12/site-packages (0.2.55)\n",
      "Requirement already satisfied: pandas>=1.3.0 in /opt/anaconda3/lib/python3.12/site-packages (from yfinance) (2.2.3)\n",
      "Requirement already satisfied: numpy>=1.16.5 in /opt/anaconda3/lib/python3.12/site-packages (from yfinance) (1.26.4)\n",
      "Requirement already satisfied: requests>=2.31 in /opt/anaconda3/lib/python3.12/site-packages (from yfinance) (2.32.3)\n",
      "Requirement already satisfied: multitasking>=0.0.7 in /opt/anaconda3/lib/python3.12/site-packages (from yfinance) (0.0.11)\n",
      "Requirement already satisfied: platformdirs>=2.0.0 in /opt/anaconda3/lib/python3.12/site-packages (from yfinance) (3.10.0)\n",
      "Requirement already satisfied: pytz>=2022.5 in /opt/anaconda3/lib/python3.12/site-packages (from yfinance) (2024.1)\n",
      "Requirement already satisfied: frozendict>=2.3.4 in /opt/anaconda3/lib/python3.12/site-packages (from yfinance) (2.4.2)\n",
      "Requirement already satisfied: peewee>=3.16.2 in /opt/anaconda3/lib/python3.12/site-packages (from yfinance) (3.17.9)\n",
      "Requirement already satisfied: beautifulsoup4>=4.11.1 in /opt/anaconda3/lib/python3.12/site-packages (from yfinance) (4.12.3)\n",
      "Requirement already satisfied: soupsieve>1.2 in /opt/anaconda3/lib/python3.12/site-packages (from beautifulsoup4>=4.11.1->yfinance) (2.5)\n",
      "Requirement already satisfied: python-dateutil>=2.8.2 in /opt/anaconda3/lib/python3.12/site-packages (from pandas>=1.3.0->yfinance) (2.9.0.post0)\n",
      "Requirement already satisfied: tzdata>=2022.7 in /opt/anaconda3/lib/python3.12/site-packages (from pandas>=1.3.0->yfinance) (2023.3)\n",
      "Requirement already satisfied: charset-normalizer<4,>=2 in /opt/anaconda3/lib/python3.12/site-packages (from requests>=2.31->yfinance) (3.3.2)\n",
      "Requirement already satisfied: idna<4,>=2.5 in /opt/anaconda3/lib/python3.12/site-packages (from requests>=2.31->yfinance) (3.7)\n",
      "Requirement already satisfied: urllib3<3,>=1.21.1 in /opt/anaconda3/lib/python3.12/site-packages (from requests>=2.31->yfinance) (2.2.3)\n",
      "Requirement already satisfied: certifi>=2017.4.17 in /opt/anaconda3/lib/python3.12/site-packages (from requests>=2.31->yfinance) (2024.8.30)\n",
      "Requirement already satisfied: six>=1.5 in /opt/anaconda3/lib/python3.12/site-packages (from python-dateutil>=2.8.2->pandas>=1.3.0->yfinance) (1.16.0)\n"
     ]
    }
   ],
   "source": [
    "!pip install yfinance"
   ]
  },
  {
   "cell_type": "code",
   "execution_count": 2,
   "metadata": {},
   "outputs": [],
   "source": [
    "import pandas as pd\n",
    "import yfinance as yf# librairie pour importer des données financières\n"
   ]
  },
  {
   "cell_type": "code",
   "execution_count": 3,
   "metadata": {},
   "outputs": [
    {
     "name": "stdout",
     "output_type": "stream",
     "text": [
      "YF.download() has changed argument auto_adjust default to True\n"
     ]
    },
    {
     "name": "stderr",
     "output_type": "stream",
     "text": [
      "[*********************100%***********************]  1 of 1 completed\n"
     ]
    }
   ],
   "source": [
    "# Exemple 1 : Importerséparément les données boursières d'Apple (AAPL) \n",
    "apple = yf.download('AAPL', start='2020-01-01', end='2024-12-31')"
   ]
  },
  {
   "cell_type": "code",
   "execution_count": 4,
   "metadata": {},
   "outputs": [
    {
     "name": "stdout",
     "output_type": "stream",
     "text": [
      "Price           Close       High        Low       Open     Volume\n",
      "Ticker           AAPL       AAPL       AAPL       AAPL       AAPL\n",
      "Date                                                             \n",
      "2020-01-02  72.716064  72.776591  71.466805  71.721011  135480400\n",
      "2020-01-03  72.009117  72.771745  71.783962  71.941328  146322800\n",
      "2020-01-06  72.582916  72.621654  70.876083  71.127873  118387200\n",
      "2020-01-07  72.241547  72.849224  72.021231  72.592594  108872000\n",
      "2020-01-08  73.403641  73.706271  71.943751  71.943751  132079200\n"
     ]
    }
   ],
   "source": [
    "# Afficher les 5 premières lignes du DataFrame\n",
    "print(apple.head(5))\n"
   ]
  },
  {
   "cell_type": "code",
   "execution_count": 5,
   "metadata": {},
   "outputs": [],
   "source": [
    "# Ça fonctionne même si yfinance renvoie un DataFrame multi-niveaux\n",
    "apple.columns = apple.columns.droplevel('Ticker')"
   ]
  },
  {
   "cell_type": "code",
   "execution_count": 6,
   "metadata": {},
   "outputs": [
    {
     "name": "stdout",
     "output_type": "stream",
     "text": [
      "<class 'pandas.core.frame.DataFrame'>\n",
      "DatetimeIndex: 1257 entries, 2020-01-02 to 2024-12-30\n",
      "Data columns (total 5 columns):\n",
      " #   Column  Non-Null Count  Dtype  \n",
      "---  ------  --------------  -----  \n",
      " 0   Close   1257 non-null   float64\n",
      " 1   High    1257 non-null   float64\n",
      " 2   Low     1257 non-null   float64\n",
      " 3   Open    1257 non-null   float64\n",
      " 4   Volume  1257 non-null   int64  \n",
      "dtypes: float64(4), int64(1)\n",
      "memory usage: 58.9 KB\n"
     ]
    }
   ],
   "source": [
    "apple.info()\n"
   ]
  },
  {
   "cell_type": "code",
   "execution_count": 7,
   "metadata": {},
   "outputs": [
    {
     "name": "stdout",
     "output_type": "stream",
     "text": [
      "Index(['Close', 'High', 'Low', 'Open', 'Volume'], dtype='object', name='Price')\n",
      "DatetimeIndex(['2020-01-02', '2020-01-03', '2020-01-06', '2020-01-07',\n",
      "               '2020-01-08', '2020-01-09', '2020-01-10', '2020-01-13',\n",
      "               '2020-01-14', '2020-01-15',\n",
      "               ...\n",
      "               '2024-12-16', '2024-12-17', '2024-12-18', '2024-12-19',\n",
      "               '2024-12-20', '2024-12-23', '2024-12-24', '2024-12-26',\n",
      "               '2024-12-27', '2024-12-30'],\n",
      "              dtype='datetime64[ns]', name='Date', length=1257, freq=None)\n",
      "(1257, 5)\n",
      "6285\n"
     ]
    }
   ],
   "source": [
    "print(apple.columns) #afficher les colonnes du DataFrame \n",
    "\n",
    "print(apple.index) #afficher l'index du DataFrame\n",
    "\n",
    "print(apple.shape) #afficher le nombre de lignes et de colonnes du DataFrame\n",
    "\n",
    "print(apple.size) #afficher le nombre total d'éléments du DataFrame\n",
    "\n",
    "\n",
    "\n",
    "\n",
    "\n"
   ]
  },
  {
   "cell_type": "code",
   "execution_count": 8,
   "metadata": {},
   "outputs": [
    {
     "name": "stderr",
     "output_type": "stream",
     "text": [
      "[*********************100%***********************]  2 of 2 completed"
     ]
    },
    {
     "name": "stdout",
     "output_type": "stream",
     "text": [
      "Ticker           AAPL                                                   TSLA  \\\n",
      "Price            Open       High        Low      Close     Volume       Open   \n",
      "Date                                                                           \n",
      "2020-01-02  71.721011  72.776591  71.466805  72.716064  135480400  28.299999   \n",
      "2020-01-03  71.941328  72.771745  71.783962  72.009117  146322800  29.366667   \n",
      "2020-01-06  71.127873  72.621654  70.876083  72.582916  118387200  29.364668   \n",
      "2020-01-07  72.592594  72.849224  72.021231  72.241547  108872000  30.760000   \n",
      "2020-01-08  71.943751  73.706271  71.943751  73.403641  132079200  31.580000   \n",
      "\n",
      "Ticker                                                  \n",
      "Price            High        Low      Close     Volume  \n",
      "Date                                                    \n",
      "2020-01-02  28.713333  28.114000  28.684000  142981500  \n",
      "2020-01-03  30.266666  29.128000  29.534000  266677500  \n",
      "2020-01-06  30.104000  29.333332  30.102667  151995000  \n",
      "2020-01-07  31.441999  30.224001  31.270666  268231500  \n",
      "2020-01-08  33.232666  31.215334  32.809334  467164500  \n",
      "<class 'pandas.core.frame.DataFrame'>\n",
      "DatetimeIndex: 1257 entries, 2020-01-02 to 2024-12-30\n",
      "Data columns (total 10 columns):\n",
      " #   Column          Non-Null Count  Dtype  \n",
      "---  ------          --------------  -----  \n",
      " 0   (AAPL, Open)    1257 non-null   float64\n",
      " 1   (AAPL, High)    1257 non-null   float64\n",
      " 2   (AAPL, Low)     1257 non-null   float64\n",
      " 3   (AAPL, Close)   1257 non-null   float64\n",
      " 4   (AAPL, Volume)  1257 non-null   int64  \n",
      " 5   (TSLA, Open)    1257 non-null   float64\n",
      " 6   (TSLA, High)    1257 non-null   float64\n",
      " 7   (TSLA, Low)     1257 non-null   float64\n",
      " 8   (TSLA, Close)   1257 non-null   float64\n",
      " 9   (TSLA, Volume)  1257 non-null   int64  \n",
      "dtypes: float64(8), int64(2)\n",
      "memory usage: 108.0 KB\n",
      "None\n"
     ]
    },
    {
     "name": "stderr",
     "output_type": "stream",
     "text": [
      "\n"
     ]
    }
   ],
   "source": [
    "\n",
    "# Exemple 2 : Importer les données boursières d'Apple (AAPL) et de Tesla (TSLA) sur 5 ans\n",
    "# Nous récupérons ici les données historiques de 2020 à 2024 inclus.\n",
    "apple_tesla = yf.download(['AAPL', 'TSLA'], start='2020-01-01', end='2024-12-31', group_by='ticker')\n",
    "print(apple_tesla.head())#afficher les 5 premières lignes du DataFrame\n",
    "\n",
    "\n",
    "print(apple_tesla.info())\n",
    "\n",
    "\n",
    "\n"
   ]
  },
  {
   "cell_type": "code",
   "execution_count": 9,
   "metadata": {},
   "outputs": [
    {
     "name": "stdout",
     "output_type": "stream",
     "text": [
      "Price            Open       High        Low      Close     Volume\n",
      "Date                                                             \n",
      "2020-01-02  28.299999  28.713333  28.114000  28.684000  142981500\n",
      "2020-01-03  29.366667  30.266666  29.128000  29.534000  266677500\n",
      "2020-01-06  29.364668  30.104000  29.333332  30.102667  151995000\n",
      "2020-01-07  30.760000  31.441999  30.224001  31.270666  268231500\n",
      "2020-01-08  31.580000  33.232666  31.215334  32.809334  467164500\n",
      "2020-01-09  33.139999  33.253334  31.524668  32.089333  426606000\n",
      "2020-01-10  32.119331  32.329334  31.580000  31.876667  194392500\n",
      "2020-01-13  32.900002  35.042000  32.799999  34.990665  397764000\n",
      "2020-01-14  36.284000  36.493999  34.993332  35.861332  434943000\n",
      "2020-01-15  35.317333  35.855999  34.452667  34.566666  260532000\n"
     ]
    }
   ],
   "source": [
    "# Accéder uniquement aux données de l'action Tesla\n",
    "data_tesla = apple_tesla['TSLA']\n",
    "print(data_tesla.head(10))#afficher les 10 premières lignes du DataFrame\n"
   ]
  },
  {
   "cell_type": "code",
   "execution_count": 10,
   "metadata": {},
   "outputs": [
    {
     "name": "stdout",
     "output_type": "stream",
     "text": [
      "        Price              Close               High                Low  \\\n",
      "0      Ticker               AAPL               AAPL               AAPL   \n",
      "1        Date                NaN                NaN                NaN   \n",
      "2  2020-01-02  72.71607208251953  72.77659819422657  71.46681225027338   \n",
      "3  2020-01-03  72.00914001464844  72.77176771569704  71.78398460177141   \n",
      "4  2020-01-06  72.58290100097656  72.62163859417052  70.87606782262263   \n",
      "\n",
      "                Open     Volume  \n",
      "0               AAPL       AAPL  \n",
      "1                NaN        NaN  \n",
      "2  71.72101896406637  135480400  \n",
      "3  71.94135104985396  146322800  \n",
      "4  71.12785848416316  118387200  \n"
     ]
    }
   ],
   "source": [
    "# Charger un fichier CSV local\n",
    "apple_csv_data = pd.read_csv('apple.csv')\n",
    "print(apple_csv_data.head())\n",
    "\n",
    "\n",
    "\n"
   ]
  },
  {
   "cell_type": "code",
   "execution_count": null,
   "metadata": {},
   "outputs": [],
   "source": []
  },
  {
   "cell_type": "markdown",
   "metadata": {},
   "source": [
    "\n",
    "## 2. Nettoyer les données\n",
    "**Objectif** : Identifier et traiter les valeurs manquantes, les doublons et les anomalies pour garantir la fiabilité des analyses financières."
   ]
  },
  {
   "cell_type": "code",
   "execution_count": 11,
   "metadata": {},
   "outputs": [
    {
     "name": "stdout",
     "output_type": "stream",
     "text": [
      "Valeurs manquantes par colonne :\n",
      "Price\n",
      "Close     0\n",
      "High      0\n",
      "Low       0\n",
      "Open      0\n",
      "Volume    0\n",
      "dtype: int64\n"
     ]
    }
   ],
   "source": [
    "# Vérifier les valeurs manquantes\n",
    "print(\"Valeurs manquantes par colonne :\")\n",
    "print(apple.isnull().sum())"
   ]
  },
  {
   "cell_type": "code",
   "execution_count": 12,
   "metadata": {},
   "outputs": [
    {
     "name": "stdout",
     "output_type": "stream",
     "text": [
      "\n",
      "Proportion de valeurs manquantes :\n",
      "Price\n",
      "Close     0.0\n",
      "High      0.0\n",
      "Low       0.0\n",
      "Open      0.0\n",
      "Volume    0.0\n",
      "dtype: float64\n"
     ]
    }
   ],
   "source": [
    "# Proportion de valeurs manquantes par colonne\n",
    "print(\"\\nProportion de valeurs manquantes :\")\n",
    "print(apple.isnull().mean())"
   ]
  },
  {
   "cell_type": "code",
   "execution_count": 13,
   "metadata": {},
   "outputs": [
    {
     "data": {
      "text/plain": [
       "0"
      ]
     },
     "execution_count": 13,
     "metadata": {},
     "output_type": "execute_result"
    }
   ],
   "source": [
    "# Identifier les doublons\n",
    "apple.duplicated().sum()\n"
   ]
  },
  {
   "cell_type": "code",
   "execution_count": 14,
   "metadata": {},
   "outputs": [
    {
     "name": "stdout",
     "output_type": "stream",
     "text": [
      "\n",
      "Exemples de doublons :\n"
     ]
    },
    {
     "data": {
      "text/html": [
       "<div>\n",
       "<style scoped>\n",
       "    .dataframe tbody tr th:only-of-type {\n",
       "        vertical-align: middle;\n",
       "    }\n",
       "\n",
       "    .dataframe tbody tr th {\n",
       "        vertical-align: top;\n",
       "    }\n",
       "\n",
       "    .dataframe thead th {\n",
       "        text-align: right;\n",
       "    }\n",
       "</style>\n",
       "<table border=\"1\" class=\"dataframe\">\n",
       "  <thead>\n",
       "    <tr style=\"text-align: right;\">\n",
       "      <th>Price</th>\n",
       "      <th>Close</th>\n",
       "      <th>High</th>\n",
       "      <th>Low</th>\n",
       "      <th>Open</th>\n",
       "      <th>Volume</th>\n",
       "    </tr>\n",
       "    <tr>\n",
       "      <th>Date</th>\n",
       "      <th></th>\n",
       "      <th></th>\n",
       "      <th></th>\n",
       "      <th></th>\n",
       "      <th></th>\n",
       "    </tr>\n",
       "  </thead>\n",
       "  <tbody>\n",
       "  </tbody>\n",
       "</table>\n",
       "</div>"
      ],
      "text/plain": [
       "Empty DataFrame\n",
       "Columns: [Close, High, Low, Open, Volume]\n",
       "Index: []"
      ]
     },
     "execution_count": 14,
     "metadata": {},
     "output_type": "execute_result"
    }
   ],
   "source": [
    "print(\"\\nExemples de doublons :\")\n",
    "apple[apple.duplicated()]"
   ]
  },
  {
   "cell_type": "code",
   "execution_count": 15,
   "metadata": {},
   "outputs": [],
   "source": [
    "\n",
    "# Supprimer les lignes contenant des valeurs manquantes\n",
    "apple_clean = apple.dropna()\n",
    "\n"
   ]
  },
  {
   "cell_type": "code",
   "execution_count": 16,
   "metadata": {},
   "outputs": [],
   "source": [
    "# Supprimer les doublons\n",
    "apple_clean = apple_clean.drop_duplicates()"
   ]
  },
  {
   "cell_type": "markdown",
   "metadata": {},
   "source": [
    "## 3. Gérer les dates et fréquences\n",
    "**Objectif** : Convertir les formats de date et passer d’une fréquence journalière à hebdomadaire ou mensuelle. Assurer la cohérence temporelle pour l’analyse de séries financières."
   ]
  },
  {
   "cell_type": "code",
   "execution_count": 17,
   "metadata": {},
   "outputs": [
    {
     "data": {
      "text/plain": [
       "DatetimeIndex(['2020-01-02', '2020-01-03', '2020-01-06', '2020-01-07',\n",
       "               '2020-01-08', '2020-01-09', '2020-01-10', '2020-01-13',\n",
       "               '2020-01-14', '2020-01-15',\n",
       "               ...\n",
       "               '2024-12-16', '2024-12-17', '2024-12-18', '2024-12-19',\n",
       "               '2024-12-20', '2024-12-23', '2024-12-24', '2024-12-26',\n",
       "               '2024-12-27', '2024-12-30'],\n",
       "              dtype='datetime64[ns]', name='Date', length=1257, freq=None)"
      ]
     },
     "execution_count": 17,
     "metadata": {},
     "output_type": "execute_result"
    }
   ],
   "source": [
    "apple_clean.index "
   ]
  },
  {
   "cell_type": "code",
   "execution_count": 18,
   "metadata": {},
   "outputs": [
    {
     "data": {
      "text/plain": [
       "pandas.core.indexes.datetimes.DatetimeIndex"
      ]
     },
     "execution_count": 18,
     "metadata": {},
     "output_type": "execute_result"
    }
   ],
   "source": [
    "# Assurer le bon format de date\n",
    "apple_clean.index = pd.to_datetime(apple_clean.index)\n",
    "type(apple_clean.index)"
   ]
  },
  {
   "cell_type": "code",
   "execution_count": 19,
   "metadata": {},
   "outputs": [
    {
     "data": {
      "text/html": [
       "<div>\n",
       "<style scoped>\n",
       "    .dataframe tbody tr th:only-of-type {\n",
       "        vertical-align: middle;\n",
       "    }\n",
       "\n",
       "    .dataframe tbody tr th {\n",
       "        vertical-align: top;\n",
       "    }\n",
       "\n",
       "    .dataframe thead th {\n",
       "        text-align: right;\n",
       "    }\n",
       "</style>\n",
       "<table border=\"1\" class=\"dataframe\">\n",
       "  <thead>\n",
       "    <tr style=\"text-align: right;\">\n",
       "      <th>Price</th>\n",
       "      <th>Close</th>\n",
       "      <th>High</th>\n",
       "      <th>Low</th>\n",
       "      <th>Open</th>\n",
       "      <th>Volume</th>\n",
       "    </tr>\n",
       "    <tr>\n",
       "      <th>Date</th>\n",
       "      <th></th>\n",
       "      <th></th>\n",
       "      <th></th>\n",
       "      <th></th>\n",
       "      <th></th>\n",
       "    </tr>\n",
       "  </thead>\n",
       "  <tbody>\n",
       "    <tr>\n",
       "      <th>2020-01-02</th>\n",
       "      <td>72.716064</td>\n",
       "      <td>72.776591</td>\n",
       "      <td>71.466805</td>\n",
       "      <td>71.721011</td>\n",
       "      <td>135480400</td>\n",
       "    </tr>\n",
       "    <tr>\n",
       "      <th>2020-01-03</th>\n",
       "      <td>72.009117</td>\n",
       "      <td>72.771745</td>\n",
       "      <td>71.783962</td>\n",
       "      <td>71.941328</td>\n",
       "      <td>146322800</td>\n",
       "    </tr>\n",
       "    <tr>\n",
       "      <th>2020-01-06</th>\n",
       "      <td>72.582916</td>\n",
       "      <td>72.621654</td>\n",
       "      <td>70.876083</td>\n",
       "      <td>71.127873</td>\n",
       "      <td>118387200</td>\n",
       "    </tr>\n",
       "    <tr>\n",
       "      <th>2020-01-07</th>\n",
       "      <td>72.241547</td>\n",
       "      <td>72.849224</td>\n",
       "      <td>72.021231</td>\n",
       "      <td>72.592594</td>\n",
       "      <td>108872000</td>\n",
       "    </tr>\n",
       "    <tr>\n",
       "      <th>2020-01-08</th>\n",
       "      <td>73.403641</td>\n",
       "      <td>73.706271</td>\n",
       "      <td>71.943751</td>\n",
       "      <td>71.943751</td>\n",
       "      <td>132079200</td>\n",
       "    </tr>\n",
       "  </tbody>\n",
       "</table>\n",
       "</div>"
      ],
      "text/plain": [
       "Price           Close       High        Low       Open     Volume\n",
       "Date                                                             \n",
       "2020-01-02  72.716064  72.776591  71.466805  71.721011  135480400\n",
       "2020-01-03  72.009117  72.771745  71.783962  71.941328  146322800\n",
       "2020-01-06  72.582916  72.621654  70.876083  71.127873  118387200\n",
       "2020-01-07  72.241547  72.849224  72.021231  72.592594  108872000\n",
       "2020-01-08  73.403641  73.706271  71.943751  71.943751  132079200"
      ]
     },
     "execution_count": 19,
     "metadata": {},
     "output_type": "execute_result"
    }
   ],
   "source": [
    "apple_clean.head()"
   ]
  },
  {
   "cell_type": "code",
   "execution_count": 20,
   "metadata": {},
   "outputs": [
    {
     "data": {
      "text/html": [
       "<div>\n",
       "<style scoped>\n",
       "    .dataframe tbody tr th:only-of-type {\n",
       "        vertical-align: middle;\n",
       "    }\n",
       "\n",
       "    .dataframe tbody tr th {\n",
       "        vertical-align: top;\n",
       "    }\n",
       "\n",
       "    .dataframe thead th {\n",
       "        text-align: right;\n",
       "    }\n",
       "</style>\n",
       "<table border=\"1\" class=\"dataframe\">\n",
       "  <thead>\n",
       "    <tr style=\"text-align: right;\">\n",
       "      <th>Price</th>\n",
       "      <th>Close</th>\n",
       "      <th>High</th>\n",
       "      <th>Low</th>\n",
       "      <th>Open</th>\n",
       "      <th>Volume</th>\n",
       "    </tr>\n",
       "    <tr>\n",
       "      <th>Date</th>\n",
       "      <th></th>\n",
       "      <th></th>\n",
       "      <th></th>\n",
       "      <th></th>\n",
       "      <th></th>\n",
       "    </tr>\n",
       "  </thead>\n",
       "  <tbody>\n",
       "    <tr>\n",
       "      <th>2020-01-05</th>\n",
       "      <td>72.362591</td>\n",
       "      <td>72.774168</td>\n",
       "      <td>71.625383</td>\n",
       "      <td>71.831170</td>\n",
       "      <td>140901600.0</td>\n",
       "    </tr>\n",
       "    <tr>\n",
       "      <th>2020-01-12</th>\n",
       "      <td>73.664632</td>\n",
       "      <td>74.006483</td>\n",
       "      <td>72.720426</td>\n",
       "      <td>73.049203</td>\n",
       "      <td>134018320.0</td>\n",
       "    </tr>\n",
       "    <tr>\n",
       "      <th>2020-01-19</th>\n",
       "      <td>76.260478</td>\n",
       "      <td>76.726773</td>\n",
       "      <td>75.534650</td>\n",
       "      <td>76.023218</td>\n",
       "      <td>130411120.0</td>\n",
       "    </tr>\n",
       "    <tr>\n",
       "      <th>2020-01-26</th>\n",
       "      <td>76.977709</td>\n",
       "      <td>77.588413</td>\n",
       "      <td>76.655102</td>\n",
       "      <td>77.106628</td>\n",
       "      <td>115921300.0</td>\n",
       "    </tr>\n",
       "    <tr>\n",
       "      <th>2020-02-02</th>\n",
       "      <td>76.716116</td>\n",
       "      <td>77.705353</td>\n",
       "      <td>75.802414</td>\n",
       "      <td>76.920453</td>\n",
       "      <td>173346960.0</td>\n",
       "    </tr>\n",
       "  </tbody>\n",
       "</table>\n",
       "</div>"
      ],
      "text/plain": [
       "Price           Close       High        Low       Open       Volume\n",
       "Date                                                               \n",
       "2020-01-05  72.362591  72.774168  71.625383  71.831170  140901600.0\n",
       "2020-01-12  73.664632  74.006483  72.720426  73.049203  134018320.0\n",
       "2020-01-19  76.260478  76.726773  75.534650  76.023218  130411120.0\n",
       "2020-01-26  76.977709  77.588413  76.655102  77.106628  115921300.0\n",
       "2020-02-02  76.716116  77.705353  75.802414  76.920453  173346960.0"
      ]
     },
     "execution_count": 20,
     "metadata": {},
     "output_type": "execute_result"
    }
   ],
   "source": [
    "# Convertir en données hebdomadaires\n",
    "weekly_data = apple_clean.resample('W').mean()\n",
    "weekly_data.head()"
   ]
  },
  {
   "cell_type": "markdown",
   "metadata": {},
   "source": [
    "\n",
    "## 4. Contrôler la cohérence et filtrer des données\n",
    "**Objectif** : Sélectionner les lignes et colonnes pertinentes, filtrer les valeurs extrêmes ou non désirées.\n"
   ]
  },
  {
   "cell_type": "code",
   "execution_count": 21,
   "metadata": {},
   "outputs": [
    {
     "data": {
      "text/html": [
       "<div>\n",
       "<style scoped>\n",
       "    .dataframe tbody tr th:only-of-type {\n",
       "        vertical-align: middle;\n",
       "    }\n",
       "\n",
       "    .dataframe tbody tr th {\n",
       "        vertical-align: top;\n",
       "    }\n",
       "\n",
       "    .dataframe thead th {\n",
       "        text-align: right;\n",
       "    }\n",
       "</style>\n",
       "<table border=\"1\" class=\"dataframe\">\n",
       "  <thead>\n",
       "    <tr style=\"text-align: right;\">\n",
       "      <th>Price</th>\n",
       "      <th>Open</th>\n",
       "      <th>Close</th>\n",
       "      <th>Volume</th>\n",
       "    </tr>\n",
       "    <tr>\n",
       "      <th>Date</th>\n",
       "      <th></th>\n",
       "      <th></th>\n",
       "      <th></th>\n",
       "    </tr>\n",
       "  </thead>\n",
       "  <tbody>\n",
       "    <tr>\n",
       "      <th>2020-01-02</th>\n",
       "      <td>71.721011</td>\n",
       "      <td>72.716064</td>\n",
       "      <td>135480400</td>\n",
       "    </tr>\n",
       "    <tr>\n",
       "      <th>2020-01-03</th>\n",
       "      <td>71.941328</td>\n",
       "      <td>72.009117</td>\n",
       "      <td>146322800</td>\n",
       "    </tr>\n",
       "    <tr>\n",
       "      <th>2020-01-06</th>\n",
       "      <td>71.127873</td>\n",
       "      <td>72.582916</td>\n",
       "      <td>118387200</td>\n",
       "    </tr>\n",
       "    <tr>\n",
       "      <th>2020-01-07</th>\n",
       "      <td>72.592594</td>\n",
       "      <td>72.241547</td>\n",
       "      <td>108872000</td>\n",
       "    </tr>\n",
       "    <tr>\n",
       "      <th>2020-01-08</th>\n",
       "      <td>71.943751</td>\n",
       "      <td>73.403641</td>\n",
       "      <td>132079200</td>\n",
       "    </tr>\n",
       "  </tbody>\n",
       "</table>\n",
       "</div>"
      ],
      "text/plain": [
       "Price            Open      Close     Volume\n",
       "Date                                       \n",
       "2020-01-02  71.721011  72.716064  135480400\n",
       "2020-01-03  71.941328  72.009117  146322800\n",
       "2020-01-06  71.127873  72.582916  118387200\n",
       "2020-01-07  72.592594  72.241547  108872000\n",
       "2020-01-08  71.943751  73.403641  132079200"
      ]
     },
     "execution_count": 21,
     "metadata": {},
     "output_type": "execute_result"
    }
   ],
   "source": [
    "# Garder que les colonnes pertinentes\n",
    "\n",
    "# - 'Open' : le prix d'ouverture de l'action pour la journée\n",
    "# - 'Close' : le prix de clôture de l'action pour la journée\n",
    "# - 'Volume' : le volume de transactions échangées ce jour-là\n",
    "cols = ['Open', 'Close', 'Volume']\n",
    "data_filtered = apple_clean[cols]   \n",
    "data_filtered.head()"
   ]
  },
  {
   "cell_type": "markdown",
   "metadata": {},
   "source": [
    "\n"
   ]
  },
  {
   "cell_type": "code",
   "execution_count": 22,
   "metadata": {},
   "outputs": [
    {
     "data": {
      "text/html": [
       "<div>\n",
       "<style scoped>\n",
       "    .dataframe tbody tr th:only-of-type {\n",
       "        vertical-align: middle;\n",
       "    }\n",
       "\n",
       "    .dataframe tbody tr th {\n",
       "        vertical-align: top;\n",
       "    }\n",
       "\n",
       "    .dataframe thead th {\n",
       "        text-align: right;\n",
       "    }\n",
       "</style>\n",
       "<table border=\"1\" class=\"dataframe\">\n",
       "  <thead>\n",
       "    <tr style=\"text-align: right;\">\n",
       "      <th>Price</th>\n",
       "      <th>Open</th>\n",
       "      <th>Close</th>\n",
       "      <th>Volume</th>\n",
       "    </tr>\n",
       "    <tr>\n",
       "      <th>Date</th>\n",
       "      <th></th>\n",
       "      <th></th>\n",
       "      <th></th>\n",
       "    </tr>\n",
       "  </thead>\n",
       "  <tbody>\n",
       "    <tr>\n",
       "      <th>2024-03-01</th>\n",
       "      <td>178.706175</td>\n",
       "      <td>178.815659</td>\n",
       "      <td>73488000</td>\n",
       "    </tr>\n",
       "    <tr>\n",
       "      <th>2024-03-04</th>\n",
       "      <td>175.322153</td>\n",
       "      <td>174.277100</td>\n",
       "      <td>81510100</td>\n",
       "    </tr>\n",
       "    <tr>\n",
       "      <th>2024-03-05</th>\n",
       "      <td>169.957487</td>\n",
       "      <td>169.320496</td>\n",
       "      <td>95132400</td>\n",
       "    </tr>\n",
       "    <tr>\n",
       "      <th>2024-03-06</th>\n",
       "      <td>170.256080</td>\n",
       "      <td>168.325195</td>\n",
       "      <td>68587700</td>\n",
       "    </tr>\n",
       "    <tr>\n",
       "      <th>2024-03-07</th>\n",
       "      <td>168.355038</td>\n",
       "      <td>168.205750</td>\n",
       "      <td>71765100</td>\n",
       "    </tr>\n",
       "  </tbody>\n",
       "</table>\n",
       "</div>"
      ],
      "text/plain": [
       "Price             Open       Close    Volume\n",
       "Date                                        \n",
       "2024-03-01  178.706175  178.815659  73488000\n",
       "2024-03-04  175.322153  174.277100  81510100\n",
       "2024-03-05  169.957487  169.320496  95132400\n",
       "2024-03-06  170.256080  168.325195  68587700\n",
       "2024-03-07  168.355038  168.205750  71765100"
      ]
     },
     "execution_count": 22,
     "metadata": {},
     "output_type": "execute_result"
    }
   ],
   "source": [
    "\n",
    "# Garder les données de la période 2024-03-01 à 2024-09-30\n",
    "data_filtered = data_filtered.loc['2024-03-01':'2024-09-30']\n",
    "data_filtered.head()"
   ]
  },
  {
   "cell_type": "code",
   "execution_count": 23,
   "metadata": {},
   "outputs": [
    {
     "data": {
      "text/html": [
       "<div>\n",
       "<style scoped>\n",
       "    .dataframe tbody tr th:only-of-type {\n",
       "        vertical-align: middle;\n",
       "    }\n",
       "\n",
       "    .dataframe tbody tr th {\n",
       "        vertical-align: top;\n",
       "    }\n",
       "\n",
       "    .dataframe thead th {\n",
       "        text-align: right;\n",
       "    }\n",
       "</style>\n",
       "<table border=\"1\" class=\"dataframe\">\n",
       "  <thead>\n",
       "    <tr style=\"text-align: right;\">\n",
       "      <th>Price</th>\n",
       "      <th>Open</th>\n",
       "      <th>Close</th>\n",
       "      <th>Volume</th>\n",
       "    </tr>\n",
       "    <tr>\n",
       "      <th>Date</th>\n",
       "      <th></th>\n",
       "      <th></th>\n",
       "      <th></th>\n",
       "    </tr>\n",
       "  </thead>\n",
       "  <tbody>\n",
       "    <tr>\n",
       "      <th>2024-03-01</th>\n",
       "      <td>178.706175</td>\n",
       "      <td>178.815659</td>\n",
       "      <td>73488000</td>\n",
       "    </tr>\n",
       "    <tr>\n",
       "      <th>2024-03-04</th>\n",
       "      <td>175.322153</td>\n",
       "      <td>174.277100</td>\n",
       "      <td>81510100</td>\n",
       "    </tr>\n",
       "    <tr>\n",
       "      <th>2024-03-05</th>\n",
       "      <td>169.957487</td>\n",
       "      <td>169.320496</td>\n",
       "      <td>95132400</td>\n",
       "    </tr>\n",
       "    <tr>\n",
       "      <th>2024-03-06</th>\n",
       "      <td>170.256080</td>\n",
       "      <td>168.325195</td>\n",
       "      <td>68587700</td>\n",
       "    </tr>\n",
       "    <tr>\n",
       "      <th>2024-03-07</th>\n",
       "      <td>168.355038</td>\n",
       "      <td>168.205750</td>\n",
       "      <td>71765100</td>\n",
       "    </tr>\n",
       "  </tbody>\n",
       "</table>\n",
       "</div>"
      ],
      "text/plain": [
       "Price             Open       Close    Volume\n",
       "Date                                        \n",
       "2024-03-01  178.706175  178.815659  73488000\n",
       "2024-03-04  175.322153  174.277100  81510100\n",
       "2024-03-05  169.957487  169.320496  95132400\n",
       "2024-03-06  170.256080  168.325195  68587700\n",
       "2024-03-07  168.355038  168.205750  71765100"
      ]
     },
     "execution_count": 23,
     "metadata": {},
     "output_type": "execute_result"
    }
   ],
   "source": [
    "\n",
    "# Filtrer selon des seuils\n",
    "data_filtered = data_filtered[data_filtered['Close'] > 100]\n",
    "data_filtered.head()\n",
    "\n",
    "\n",
    "\n",
    "\n"
   ]
  },
  {
   "cell_type": "markdown",
   "metadata": {},
   "source": [
    "## 5. Échantillonner les données\n",
    "**Objectif** : Uniformiser l’unité et le format des colonnes pour comparer différents actifs. Créer des échantillons pour tester les modèles.\n"
   ]
  },
  {
   "cell_type": "code",
   "execution_count": 24,
   "metadata": {},
   "outputs": [],
   "source": [
    "# Uniformiser les unités\n",
    "data_filtered['Volume'] = data_filtered['Volume'] / 1000  # En milliers"
   ]
  },
  {
   "cell_type": "code",
   "execution_count": 25,
   "metadata": {},
   "outputs": [],
   "source": [
    "\n",
    "# Échantillon aléatoire de 20%\n",
    "sampled = data_filtered.sample(frac=0.2, random_state=1)"
   ]
  }
 ],
 "metadata": {
  "kernelspec": {
   "display_name": "base",
   "language": "python",
   "name": "python3"
  },
  "language_info": {
   "codemirror_mode": {
    "name": "ipython",
    "version": 3
   },
   "file_extension": ".py",
   "mimetype": "text/x-python",
   "name": "python",
   "nbconvert_exporter": "python",
   "pygments_lexer": "ipython3",
   "version": "3.12.7"
  }
 },
 "nbformat": 4,
 "nbformat_minor": 2
}
