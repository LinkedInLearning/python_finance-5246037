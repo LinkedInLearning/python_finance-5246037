{
 "cells": [
  {
   "cell_type": "markdown",
   "id": "7cb0b9da",
   "metadata": {},
   "source": [
    "# Chapitre 4 : Maîtriser les moyennes mobiles en finance\n",
    "\n",
    "## Objectifs \n",
    "\n",
    "- Calculer des moyennes mobiles simples (SMA) et exponentielles (EMA) avec `pandas`\n",
    "- Visualiser les tendances à l’aide de `matplotlib` et `seaborn`\n",
    "\n",
    "\n"
   ]
  },
  {
   "cell_type": "markdown",
   "id": "a9ad4c35",
   "metadata": {},
   "source": [
    "## 1. Importer les données d'Apple\n",
    "\n",
    "Les moyennes mobiles sont des indicateurs calculés à partir du prix d’un actif sur une période donnée. Pour les utiliser, il est essentiel de disposer d’un historique de prix suffisamment long. Ici, nous utiliserons les données de l’action Apple (AAPL).\n"
   ]
  },
  {
   "cell_type": "code",
   "execution_count": null,
   "id": "0a9774e9",
   "metadata": {},
   "outputs": [],
   "source": [
    "import pandas as pd\n",
    "import yfinance as yf\n",
    "import matplotlib.pyplot as plt\n",
    "import seaborn as sns\n",
    "\n",
    "apple = yf.download('AAPL', start='2021-01-01', end='2024-12-31')\n",
    "# Ça fonctionne même si yfinance renvoie un DataFrame multi-niveaux\n",
    "apple.columns = apple.columns.droplevel('Ticker')\n",
    "apple.dropna(inplace=True)\n",
    "apple.head()\n"
   ]
  },
  {
   "cell_type": "markdown",
   "id": "68eae79e",
   "metadata": {},
   "source": [
    "## 2. Calculer une moyenne mobile simple (SMA)\n",
    "\n",
    "La SMA (Simple Moving Average) est la moyenne arithmétique des prix de clôture sur une période donnée. Elle est utile pour lisser les variations de prix et identifier les tendances de fond.\n"
   ]
  },
  {
   "cell_type": "markdown",
   "id": "5a038394",
   "metadata": {},
   "source": [
    "$$ SMA_t = \\frac{1}{n} \\sum_{i=0}^{n-1} P_{t-i}\n",
    "$$\n",
    "\n",
    "Où :\n",
    "- $( SMA_t $) est la moyenne mobile simple à la date \\( t \\)\n",
    "- $( n $) est la période (ex. 20 jours)\n",
    "- $( P_{t-i} $) est le prix de clôture à \\( t-i \\)"
   ]
  },
  {
   "cell_type": "code",
   "execution_count": null,
   "id": "ec8e00df",
   "metadata": {},
   "outputs": [],
   "source": [
    "# Option 1: Calculer la moyenne mobile avec cumsum\n",
    "import numpy as np\n",
    "\n",
    "def moving_avg(x, n):\n",
    "    cumsum = np.cumsum(np.insert(x, 0, 0))\n",
    "    return (cumsum[n:] - cumsum[:-n]) / float(n)\n",
    "\n",
    "# Calcul SMA 20 jours avec NumPy\n",
    "ma_manual = moving_avg(apple['Close'].values, 20)\n",
    "apple['SMA_20_manual'] = pd.Series(ma_manual, index=apple.index[-len(ma_manual):])\n",
    "apple.tail()"
   ]
  },
  {
   "cell_type": "code",
   "execution_count": null,
   "id": "bc99c3c9",
   "metadata": {},
   "outputs": [],
   "source": [
    "### Option 1 : avec Pandas `rolling()` de pandas\n",
    "apple['SMA_20'] = apple['Close'].rolling(window=20).mean()\n",
    "apple[['Close', 'SMA_20']].tail()\n"
   ]
  },
  {
   "cell_type": "code",
   "execution_count": null,
   "id": "0a4b7372",
   "metadata": {},
   "outputs": [],
   "source": [
    "apple.tail()"
   ]
  },
  {
   "cell_type": "code",
   "execution_count": null,
   "id": "57de4bd8",
   "metadata": {},
   "outputs": [],
   "source": [
    "plt.figure(figsize=(12, 6))\n",
    "plt.plot(apple['Close'], label='Close')\n",
    "plt.plot(apple['SMA_20'], label='SMA 20')\n",
    "plt.title('Apple - SMA (20 jours)')\n",
    "plt.legend()\n",
    "plt.grid(True)\n",
    "plt.show()"
   ]
  },
  {
   "cell_type": "code",
   "execution_count": null,
   "id": "630d597d",
   "metadata": {},
   "outputs": [],
   "source": [
    "# Filtrer les 3 derniers mois\n",
    "data_short = apple.loc[apple.index >= apple.index[-1] - pd.Timedelta(days=90)]\n",
    "\n",
    "plt.figure(figsize=(12, 6))\n",
    "plt.plot(data_short['Close'], label='Cours de clôture')\n",
    "plt.plot(data_short['SMA_20'], label='SMA 20 jours')\n",
    "plt.title('Apple - SMA 20 jours (période récente)')\n",
    "plt.xlabel('Date')\n",
    "plt.ylabel('Prix ($)')\n",
    "plt.legend()\n",
    "plt.grid(True)\n",
    "plt.show()"
   ]
  },
  {
   "cell_type": "code",
   "execution_count": null,
   "id": "58c5a74f",
   "metadata": {},
   "outputs": [],
   "source": [
    "import plotly.graph_objects as go\n",
    "\n",
    "# Préparation des données\n",
    "plot_data = apple.copy()\n",
    "plot_data = plot_data.reset_index()\n",
    "\n",
    "# Créer un graphique vide\n",
    "fig = go.Figure()\n",
    "\n",
    "# Ajouter la courbe de clôture\n",
    "fig.add_trace(go.Scatter(\n",
    "    x=plot_data['Date'],\n",
    "    y=plot_data['Close'],\n",
    "    mode='lines',\n",
    "    name='Cours de clôture',\n",
    "    line=dict(color='blue')\n",
    "))\n",
    "\n",
    "# Ajouter la moyenne mobile 20 jours\n",
    "fig.add_trace(go.Scatter(\n",
    "    x=plot_data['Date'],\n",
    "    y=plot_data['SMA_20'],\n",
    "    mode='lines',\n",
    "    name='Moyenne mobile 20 jours',\n",
    "    line=dict(color='orange')\n",
    "))\n",
    "\n",
    "# Mise en forme\n",
    "fig.update_layout(\n",
    "    title='Cours de l’action Apple et moyenne mobile sur 20 jours',\n",
    "    xaxis_title='Date',\n",
    "    yaxis_title='Prix ($)',\n",
    "    template='plotly_white',\n",
    "    legend_title_text='',\n",
    "    legend=dict(x=0.01, y=0.99)\n",
    ")\n",
    "\n",
    "fig.show()\n"
   ]
  },
  {
   "cell_type": "code",
   "execution_count": null,
   "id": "16bcf255",
   "metadata": {},
   "outputs": [],
   "source": [
    "import ipywidgets as widgets\n",
    "from IPython.display import display\n",
    "\n",
    "# Widgets pour les dates\n",
    "start_date = widgets.DatePicker(description='Date de début', value=pd.to_datetime('2023-01-01'))\n",
    "end_date = widgets.DatePicker(description='Date de fin', value=pd.to_datetime('2023-06-01'))\n",
    "\n",
    "# Fonction de traçage\n",
    "def plot_range(start, end):\n",
    "    data_range = apple.loc[(apple.index >= pd.to_datetime(start)) & (apple.index <= pd.to_datetime(end))]\n",
    "    plt.figure(figsize=(12, 6))\n",
    "    plt.plot(data_range['Close'], label='Cours de clôture')\n",
    "    plt.plot(data_range['SMA_20'], label='SMA 20 jours')\n",
    "    plt.title(f\"Apple - SMA 20 jours ({start} à {end})\")\n",
    "    plt.xlabel('Date')\n",
    "    plt.ylabel('Prix ($)')\n",
    "    plt.legend()\n",
    "    plt.grid(True)\n",
    "    plt.show()\n",
    "\n",
    "# Lier les widgets\n",
    "ui = widgets.HBox([start_date, end_date])\n",
    "out = widgets.interactive_output(plot_range, {'start': start_date, 'end': end_date})\n",
    "display(ui, out)"
   ]
  },
  {
   "cell_type": "markdown",
   "id": "3dfa38c6",
   "metadata": {},
   "source": [
    "## 3. Calculer une moyenne mobile exponentielle (EMA)\n",
    "\n",
    "L’EMA (Exponential Moving Average) donne plus de poids aux prix récents. Elle réagit plus rapidement aux changements de tendance que la SMA.\n"
   ]
  },
  {
   "cell_type": "code",
   "execution_count": null,
   "id": "c384a75e",
   "metadata": {},
   "outputs": [],
   "source": [
    "apple['EMA_20'] = apple['Close'].ewm(span=20, adjust=False).mean()\n",
    "apple[['Close', 'EMA_20']].tail()\n"
   ]
  },
  {
   "cell_type": "markdown",
   "id": "b0619219",
   "metadata": {},
   "source": [
    "## 4. Visualiser l’évolution des moyennes mobiles\n",
    "\n",
    "Visualiser les moyennes mobiles permet d'observer comment elles suivent les fluctuations de prix. Cela aide à interpréter les tendances à court ou long terme.\n",
    "\n",
    "\n"
   ]
  },
  {
   "cell_type": "code",
   "execution_count": null,
   "id": "83b54232",
   "metadata": {},
   "outputs": [],
   "source": [
    "plt.figure(figsize=(12, 6))\n",
    "plt.plot(apple['Close'], label='Close')\n",
    "plt.plot(apple['SMA_20'], label='SMA 20')\n",
    "plt.plot(apple['EMA_20'], label='EMA 20')\n",
    "plt.title('Apple - SMA et EMA (20 jours)')\n",
    "plt.legend()\n",
    "plt.grid(True)\n",
    "plt.show()\n"
   ]
  }
 ],
 "metadata": {
  "kernelspec": {
   "display_name": "Python 3",
   "language": "python",
   "name": "python3"
  },
  "language_info": {
   "codemirror_mode": {
    "name": "ipython",
    "version": 3
   },
   "file_extension": ".py",
   "mimetype": "text/x-python",
   "name": "python",
   "nbconvert_exporter": "python",
   "pygments_lexer": "ipython3",
   "version": "3.12.7"
  }
 },
 "nbformat": 4,
 "nbformat_minor": 5
}
